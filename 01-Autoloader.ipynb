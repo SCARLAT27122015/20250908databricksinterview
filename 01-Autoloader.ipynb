{
 "cells": [
  {
   "cell_type": "markdown",
   "metadata": {
    "application/vnd.databricks.v1+cell": {
     "cellMetadata": {
      "byteLimit": 2048000,
      "rowLimit": 10000
     },
     "inputWidgets": {},
     "nuid": "49ab3d8b-b7d6-402c-9049-e5772ffc7182",
     "showTitle": false,
     "tableResultSettingsMap": {},
     "title": ""
    }
   },
   "source": [
    "# 01-Autoloader"
   ]
  },
  {
   "cell_type": "markdown",
   "metadata": {
    "application/vnd.databricks.v1+cell": {
     "cellMetadata": {
      "byteLimit": 2048000,
      "rowLimit": 10000
     },
     "inputWidgets": {},
     "nuid": "c92e7786-0937-4ffc-a52e-c25691606b05",
     "showTitle": false,
     "tableResultSettingsMap": {},
     "title": ""
    }
   },
   "source": [
    "### Read data (testing)"
   ]
  },
  {
   "cell_type": "code",
   "execution_count": 0,
   "metadata": {
    "application/vnd.databricks.v1+cell": {
     "cellMetadata": {
      "byteLimit": 2048000,
      "rowLimit": 10000
     },
     "inputWidgets": {},
     "nuid": "d9516954-0362-4c33-8ce6-289e1c20e1a9",
     "showTitle": false,
     "tableResultSettingsMap": {},
     "title": ""
    }
   },
   "outputs": [
    {
     "output_type": "display_data",
     "data": {
      "text/html": [
       "<style scoped>\n",
       "  .table-result-container {\n",
       "    max-height: 300px;\n",
       "    overflow: auto;\n",
       "  }\n",
       "  table, th, td {\n",
       "    border: 1px solid black;\n",
       "    border-collapse: collapse;\n",
       "  }\n",
       "  th, td {\n",
       "    padding: 5px;\n",
       "  }\n",
       "  th {\n",
       "    text-align: left;\n",
       "  }\n",
       "</style><div class='table-result-container'><table class='table-result'><thead style='background-color: white'><tr><th>OrderID</th><th>Customer</th><th>Item</th><th>Quantity</th><th>Price</th><th>OrderDate</th></tr></thead><tbody><tr><td>O1001</td><td>Customer_4</td><td>Monitor</td><td>3</td><td>1901.7</td><td>2025-08-01T11:11:00.000Z</td></tr><tr><td>O1002</td><td>Customer_2</td><td>Keyboard</td><td>1</td><td>1314.52</td><td>2025-08-01T01:10:00.000Z</td></tr><tr><td>O1003</td><td>Customer_2</td><td>Monitor</td><td>1</td><td>498.44</td><td>2025-08-01T02:27:00.000Z</td></tr><tr><td>O1004</td><td>Customer_1</td><td>Mouse</td><td>2</td><td>691.07</td><td>2025-08-01T00:59:00.000Z</td></tr><tr><td>O1005</td><td>Customer_5</td><td>Laptop</td><td>5</td><td>1491.08</td><td>2025-08-01T02:51:00.000Z</td></tr><tr><td>O1006</td><td>Customer_2</td><td>Headphones</td><td>1</td><td>1623.36</td><td>2025-08-01T10:47:00.000Z</td></tr><tr><td>O1007</td><td>Customer_1</td><td>Keyboard</td><td>1</td><td>1465.93</td><td>2025-08-01T06:15:00.000Z</td></tr><tr><td>O1008</td><td>Customer_1</td><td>Headphones</td><td>1</td><td>994.24</td><td>2025-08-01T17:28:00.000Z</td></tr><tr><td>O1009</td><td>Customer_3</td><td>Keyboard</td><td>3</td><td>99.16</td><td>2025-08-01T18:48:00.000Z</td></tr><tr><td>O1010</td><td>Customer_4</td><td>Headphones</td><td>5</td><td>1712.9</td><td>2025-08-01T05:56:00.000Z</td></tr><tr><td>O2001</td><td>Customer_2</td><td>Mouse</td><td>2</td><td>1679.54</td><td>2025-08-02T01:38:00.000Z</td></tr><tr><td>O2002</td><td>Customer_2</td><td>Monitor</td><td>1</td><td>121.69</td><td>2025-08-02T16:47:00.000Z</td></tr><tr><td>O2003</td><td>Customer_1</td><td>Monitor</td><td>2</td><td>1729.39</td><td>2025-08-02T13:15:00.000Z</td></tr><tr><td>O2004</td><td>Customer_5</td><td>Headphones</td><td>2</td><td>1341.42</td><td>2025-08-02T02:09:00.000Z</td></tr><tr><td>O2005</td><td>Customer_1</td><td>Laptop</td><td>4</td><td>558.29</td><td>2025-08-02T16:34:00.000Z</td></tr><tr><td>O2006</td><td>Customer_4</td><td>Keyboard</td><td>4</td><td>1827.75</td><td>2025-08-02T23:45:00.000Z</td></tr><tr><td>O2007</td><td>Customer_2</td><td>Headphones</td><td>5</td><td>582.69</td><td>2025-08-02T02:07:00.000Z</td></tr><tr><td>O2008</td><td>Customer_5</td><td>Laptop</td><td>5</td><td>1318.81</td><td>2025-08-02T21:02:00.000Z</td></tr><tr><td>O2009</td><td>Customer_1</td><td>Keyboard</td><td>1</td><td>1278.13</td><td>2025-08-02T11:24:00.000Z</td></tr><tr><td>O2010</td><td>Customer_3</td><td>Monitor</td><td>5</td><td>1135.39</td><td>2025-08-02T06:32:00.000Z</td></tr></tbody></table></div>"
      ]
     },
     "metadata": {
      "application/vnd.databricks.v1+output": {
       "addedWidgets": {},
       "aggData": [],
       "aggError": "",
       "aggOverflow": false,
       "aggSchema": [],
       "aggSeriesLimitReached": false,
       "aggType": "",
       "arguments": {},
       "columnCustomDisplayInfos": {},
       "data": [
        [
         "O1001",
         "Customer_4",
         "Monitor",
         3,
         1901.7,
         "2025-08-01T11:11:00.000Z"
        ],
        [
         "O1002",
         "Customer_2",
         "Keyboard",
         1,
         1314.52,
         "2025-08-01T01:10:00.000Z"
        ],
        [
         "O1003",
         "Customer_2",
         "Monitor",
         1,
         498.44,
         "2025-08-01T02:27:00.000Z"
        ],
        [
         "O1004",
         "Customer_1",
         "Mouse",
         2,
         691.07,
         "2025-08-01T00:59:00.000Z"
        ],
        [
         "O1005",
         "Customer_5",
         "Laptop",
         5,
         1491.08,
         "2025-08-01T02:51:00.000Z"
        ],
        [
         "O1006",
         "Customer_2",
         "Headphones",
         1,
         1623.36,
         "2025-08-01T10:47:00.000Z"
        ],
        [
         "O1007",
         "Customer_1",
         "Keyboard",
         1,
         1465.93,
         "2025-08-01T06:15:00.000Z"
        ],
        [
         "O1008",
         "Customer_1",
         "Headphones",
         1,
         994.24,
         "2025-08-01T17:28:00.000Z"
        ],
        [
         "O1009",
         "Customer_3",
         "Keyboard",
         3,
         99.16,
         "2025-08-01T18:48:00.000Z"
        ],
        [
         "O1010",
         "Customer_4",
         "Headphones",
         5,
         1712.9,
         "2025-08-01T05:56:00.000Z"
        ],
        [
         "O2001",
         "Customer_2",
         "Mouse",
         2,
         1679.54,
         "2025-08-02T01:38:00.000Z"
        ],
        [
         "O2002",
         "Customer_2",
         "Monitor",
         1,
         121.69,
         "2025-08-02T16:47:00.000Z"
        ],
        [
         "O2003",
         "Customer_1",
         "Monitor",
         2,
         1729.39,
         "2025-08-02T13:15:00.000Z"
        ],
        [
         "O2004",
         "Customer_5",
         "Headphones",
         2,
         1341.42,
         "2025-08-02T02:09:00.000Z"
        ],
        [
         "O2005",
         "Customer_1",
         "Laptop",
         4,
         558.29,
         "2025-08-02T16:34:00.000Z"
        ],
        [
         "O2006",
         "Customer_4",
         "Keyboard",
         4,
         1827.75,
         "2025-08-02T23:45:00.000Z"
        ],
        [
         "O2007",
         "Customer_2",
         "Headphones",
         5,
         582.69,
         "2025-08-02T02:07:00.000Z"
        ],
        [
         "O2008",
         "Customer_5",
         "Laptop",
         5,
         1318.81,
         "2025-08-02T21:02:00.000Z"
        ],
        [
         "O2009",
         "Customer_1",
         "Keyboard",
         1,
         1278.13,
         "2025-08-02T11:24:00.000Z"
        ],
        [
         "O2010",
         "Customer_3",
         "Monitor",
         5,
         1135.39,
         "2025-08-02T06:32:00.000Z"
        ]
       ],
       "datasetInfos": [],
       "dbfsResultPath": null,
       "isJsonSchema": true,
       "metadata": {},
       "overflow": false,
       "plotOptions": {
        "customPlotOptions": {},
        "displayType": "table",
        "pivotAggregation": null,
        "pivotColumns": null,
        "xColumns": null,
        "yColumns": null
       },
       "removedWidgets": [],
       "schema": [
        {
         "metadata": "{}",
         "name": "OrderID",
         "type": "\"string\""
        },
        {
         "metadata": "{}",
         "name": "Customer",
         "type": "\"string\""
        },
        {
         "metadata": "{}",
         "name": "Item",
         "type": "\"string\""
        },
        {
         "metadata": "{}",
         "name": "Quantity",
         "type": "\"integer\""
        },
        {
         "metadata": "{}",
         "name": "Price",
         "type": "\"double\""
        },
        {
         "metadata": "{}",
         "name": "OrderDate",
         "type": "\"timestamp\""
        }
       ],
       "type": "table"
      }
     },
     "output_type": "display_data"
    }
   ],
   "source": [
    "df = (\n",
    "  spark.read.format('csv')\n",
    "            .options(header='true', inferSchema='true')\n",
    "            .load('/Volumes/source/dbinterview/autoloader_data/source/')\n",
    ")\n",
    "\n",
    "df.display()"
   ]
  },
  {
   "cell_type": "markdown",
   "metadata": {
    "application/vnd.databricks.v1+cell": {
     "cellMetadata": {
      "byteLimit": 2048000,
      "rowLimit": 10000
     },
     "inputWidgets": {},
     "nuid": "4677d836-aa61-4910-bc2d-dbbb4f589eb1",
     "showTitle": false,
     "tableResultSettingsMap": {},
     "title": ""
    }
   },
   "source": [
    "### Autoloader"
   ]
  },
  {
   "cell_type": "code",
   "execution_count": 0,
   "metadata": {
    "application/vnd.databricks.v1+cell": {
     "cellMetadata": {
      "byteLimit": 2048000,
      "rowLimit": 10000
     },
     "inputWidgets": {},
     "nuid": "e7b23d44-9766-4e82-88a7-4e8b43bff120",
     "showTitle": false,
     "tableResultSettingsMap": {},
     "title": ""
    }
   },
   "outputs": [],
   "source": [
    "df = (\n",
    "    spark.readStream.format('cloudFiles')\n",
    "                    .option('cloudFiles.format', 'csv')\n",
    "                    .option('cloudFiles.schemaLocation', '/Volumes/source/dbinterview/autoloader_data/schema')\n",
    "                    .option('cloudFiles.schemaEvolutionMode', 'rescue')\n",
    "                    .load('/Volumes/source/dbinterview/autoloader_data/source/')\n",
    ")"
   ]
  },
  {
   "cell_type": "code",
   "execution_count": 0,
   "metadata": {
    "application/vnd.databricks.v1+cell": {
     "cellMetadata": {
      "byteLimit": 2048000,
      "rowLimit": 10000
     },
     "inputWidgets": {},
     "nuid": "436c72a5-4a07-452b-b721-c71b108da662",
     "showTitle": false,
     "tableResultSettingsMap": {},
     "title": ""
    }
   },
   "outputs": [
    {
     "output_type": "execute_result",
     "data": {
      "text/plain": [
       "<pyspark.sql.connect.streaming.query.StreamingQuery at 0xffb801403020>"
      ]
     },
     "execution_count": 31,
     "metadata": {},
     "output_type": "execute_result"
    }
   ],
   "source": [
    "(\n",
    "    df.writeStream.format('delta')\n",
    "                  .option('checkpointLocation', '/Volumes/source/dbinterview/autoloader_data/checkpoint')\n",
    "                  .trigger(once=True)\n",
    "                  .start('/Volumes/source/dbinterview/autoloader_data/sink/')            \n",
    ")"
   ]
  },
  {
   "cell_type": "code",
   "execution_count": 0,
   "metadata": {
    "application/vnd.databricks.v1+cell": {
     "cellMetadata": {
      "byteLimit": 2048000,
      "rowLimit": 10000
     },
     "inputWidgets": {},
     "nuid": "728f0c75-ebff-41f2-9dea-d05a73c045ad",
     "showTitle": false,
     "tableResultSettingsMap": {},
     "title": ""
    }
   },
   "outputs": [
    {
     "output_type": "display_data",
     "data": {
      "text/html": [
       "<style scoped>\n",
       "  .table-result-container {\n",
       "    max-height: 300px;\n",
       "    overflow: auto;\n",
       "  }\n",
       "  table, th, td {\n",
       "    border: 1px solid black;\n",
       "    border-collapse: collapse;\n",
       "  }\n",
       "  th, td {\n",
       "    padding: 5px;\n",
       "  }\n",
       "  th {\n",
       "    text-align: left;\n",
       "  }\n",
       "</style><div class='table-result-container'><table class='table-result'><thead style='background-color: white'><tr><th>OrderID</th><th>Customer</th><th>Item</th><th>Quantity</th><th>Price</th><th>OrderDate</th><th>_rescued_data</th></tr></thead><tbody><tr><td>O1001</td><td>Customer_4</td><td>Monitor</td><td>3</td><td>1901.7</td><td>2025-08-01 11:11:00</td><td>null</td></tr><tr><td>O1002</td><td>Customer_2</td><td>Keyboard</td><td>1</td><td>1314.52</td><td>2025-08-01 01:10:00</td><td>null</td></tr><tr><td>O1003</td><td>Customer_2</td><td>Monitor</td><td>1</td><td>498.44</td><td>2025-08-01 02:27:00</td><td>null</td></tr><tr><td>O1004</td><td>Customer_1</td><td>Mouse</td><td>2</td><td>691.07</td><td>2025-08-01 00:59:00</td><td>null</td></tr><tr><td>O1005</td><td>Customer_5</td><td>Laptop</td><td>5</td><td>1491.08</td><td>2025-08-01 02:51:00</td><td>null</td></tr><tr><td>O1006</td><td>Customer_2</td><td>Headphones</td><td>1</td><td>1623.36</td><td>2025-08-01 10:47:00</td><td>null</td></tr><tr><td>O1007</td><td>Customer_1</td><td>Keyboard</td><td>1</td><td>1465.93</td><td>2025-08-01 06:15:00</td><td>null</td></tr><tr><td>O1008</td><td>Customer_1</td><td>Headphones</td><td>1</td><td>994.24</td><td>2025-08-01 17:28:00</td><td>null</td></tr><tr><td>O1009</td><td>Customer_3</td><td>Keyboard</td><td>3</td><td>99.16</td><td>2025-08-01 18:48:00</td><td>null</td></tr><tr><td>O1010</td><td>Customer_4</td><td>Headphones</td><td>5</td><td>1712.9</td><td>2025-08-01 05:56:00</td><td>null</td></tr><tr><td>O2001</td><td>Customer_2</td><td>Mouse</td><td>2</td><td>1679.54</td><td>2025-08-02 01:38:00</td><td>null</td></tr><tr><td>O2002</td><td>Customer_2</td><td>Monitor</td><td>1</td><td>121.69</td><td>2025-08-02 16:47:00</td><td>null</td></tr><tr><td>O2003</td><td>Customer_1</td><td>Monitor</td><td>2</td><td>1729.39</td><td>2025-08-02 13:15:00</td><td>null</td></tr><tr><td>O2004</td><td>Customer_5</td><td>Headphones</td><td>2</td><td>1341.42</td><td>2025-08-02 02:09:00</td><td>null</td></tr><tr><td>O2005</td><td>Customer_1</td><td>Laptop</td><td>4</td><td>558.29</td><td>2025-08-02 16:34:00</td><td>null</td></tr><tr><td>O2006</td><td>Customer_4</td><td>Keyboard</td><td>4</td><td>1827.75</td><td>2025-08-02 23:45:00</td><td>null</td></tr><tr><td>O2007</td><td>Customer_2</td><td>Headphones</td><td>5</td><td>582.69</td><td>2025-08-02 02:07:00</td><td>null</td></tr><tr><td>O2008</td><td>Customer_5</td><td>Laptop</td><td>5</td><td>1318.81</td><td>2025-08-02 21:02:00</td><td>null</td></tr><tr><td>O2009</td><td>Customer_1</td><td>Keyboard</td><td>1</td><td>1278.13</td><td>2025-08-02 11:24:00</td><td>null</td></tr><tr><td>O2010</td><td>Customer_3</td><td>Monitor</td><td>5</td><td>1135.39</td><td>2025-08-02 06:32:00</td><td>null</td></tr></tbody></table></div>"
      ]
     },
     "metadata": {
      "application/vnd.databricks.v1+output": {
       "addedWidgets": {},
       "aggData": [],
       "aggError": "",
       "aggOverflow": false,
       "aggSchema": [],
       "aggSeriesLimitReached": false,
       "aggType": "",
       "arguments": {},
       "columnCustomDisplayInfos": {},
       "data": [
        [
         "O1001",
         "Customer_4",
         "Monitor",
         "3",
         "1901.7",
         "2025-08-01 11:11:00",
         null
        ],
        [
         "O1002",
         "Customer_2",
         "Keyboard",
         "1",
         "1314.52",
         "2025-08-01 01:10:00",
         null
        ],
        [
         "O1003",
         "Customer_2",
         "Monitor",
         "1",
         "498.44",
         "2025-08-01 02:27:00",
         null
        ],
        [
         "O1004",
         "Customer_1",
         "Mouse",
         "2",
         "691.07",
         "2025-08-01 00:59:00",
         null
        ],
        [
         "O1005",
         "Customer_5",
         "Laptop",
         "5",
         "1491.08",
         "2025-08-01 02:51:00",
         null
        ],
        [
         "O1006",
         "Customer_2",
         "Headphones",
         "1",
         "1623.36",
         "2025-08-01 10:47:00",
         null
        ],
        [
         "O1007",
         "Customer_1",
         "Keyboard",
         "1",
         "1465.93",
         "2025-08-01 06:15:00",
         null
        ],
        [
         "O1008",
         "Customer_1",
         "Headphones",
         "1",
         "994.24",
         "2025-08-01 17:28:00",
         null
        ],
        [
         "O1009",
         "Customer_3",
         "Keyboard",
         "3",
         "99.16",
         "2025-08-01 18:48:00",
         null
        ],
        [
         "O1010",
         "Customer_4",
         "Headphones",
         "5",
         "1712.9",
         "2025-08-01 05:56:00",
         null
        ],
        [
         "O2001",
         "Customer_2",
         "Mouse",
         "2",
         "1679.54",
         "2025-08-02 01:38:00",
         null
        ],
        [
         "O2002",
         "Customer_2",
         "Monitor",
         "1",
         "121.69",
         "2025-08-02 16:47:00",
         null
        ],
        [
         "O2003",
         "Customer_1",
         "Monitor",
         "2",
         "1729.39",
         "2025-08-02 13:15:00",
         null
        ],
        [
         "O2004",
         "Customer_5",
         "Headphones",
         "2",
         "1341.42",
         "2025-08-02 02:09:00",
         null
        ],
        [
         "O2005",
         "Customer_1",
         "Laptop",
         "4",
         "558.29",
         "2025-08-02 16:34:00",
         null
        ],
        [
         "O2006",
         "Customer_4",
         "Keyboard",
         "4",
         "1827.75",
         "2025-08-02 23:45:00",
         null
        ],
        [
         "O2007",
         "Customer_2",
         "Headphones",
         "5",
         "582.69",
         "2025-08-02 02:07:00",
         null
        ],
        [
         "O2008",
         "Customer_5",
         "Laptop",
         "5",
         "1318.81",
         "2025-08-02 21:02:00",
         null
        ],
        [
         "O2009",
         "Customer_1",
         "Keyboard",
         "1",
         "1278.13",
         "2025-08-02 11:24:00",
         null
        ],
        [
         "O2010",
         "Customer_3",
         "Monitor",
         "5",
         "1135.39",
         "2025-08-02 06:32:00",
         null
        ]
       ],
       "datasetInfos": [],
       "dbfsResultPath": null,
       "isJsonSchema": true,
       "metadata": {},
       "overflow": false,
       "plotOptions": {
        "customPlotOptions": {},
        "displayType": "table",
        "pivotAggregation": null,
        "pivotColumns": null,
        "xColumns": null,
        "yColumns": null
       },
       "removedWidgets": [],
       "schema": [
        {
         "metadata": "{}",
         "name": "OrderID",
         "type": "\"string\""
        },
        {
         "metadata": "{}",
         "name": "Customer",
         "type": "\"string\""
        },
        {
         "metadata": "{}",
         "name": "Item",
         "type": "\"string\""
        },
        {
         "metadata": "{}",
         "name": "Quantity",
         "type": "\"string\""
        },
        {
         "metadata": "{}",
         "name": "Price",
         "type": "\"string\""
        },
        {
         "metadata": "{}",
         "name": "OrderDate",
         "type": "\"string\""
        },
        {
         "metadata": "{}",
         "name": "_rescued_data",
         "type": "\"string\""
        }
       ],
       "type": "table"
      }
     },
     "output_type": "display_data"
    }
   ],
   "source": [
    "(spark.read.format('delta').load('/Volumes/source/dbinterview/autoloader_data/sink/').display())"
   ]
  },
  {
   "cell_type": "code",
   "execution_count": 0,
   "metadata": {
    "application/vnd.databricks.v1+cell": {
     "cellMetadata": {
      "byteLimit": 2048000,
      "rowLimit": 10000
     },
     "inputWidgets": {},
     "nuid": "2e2b2850-65d8-4581-99b5-f93f67b355f2",
     "showTitle": false,
     "tableResultSettingsMap": {},
     "title": ""
    }
   },
   "outputs": [],
   "source": []
  }
 ],
 "metadata": {
  "application/vnd.databricks.v1+notebook": {
   "computePreferences": {
    "hardware": {
     "accelerator": null,
     "gpuPoolId": null,
     "memory": null
    }
   },
   "dashboards": [],
   "environmentMetadata": {
    "base_environment": "",
    "environment_version": "3"
   },
   "inputWidgetPreferences": null,
   "language": "python",
   "notebookMetadata": {
    "pythonIndentUnit": 4
   },
   "notebookName": "01-Autoloader",
   "widgets": {}
  },
  "language_info": {
   "name": "python"
  }
 },
 "nbformat": 4,
 "nbformat_minor": 0
}